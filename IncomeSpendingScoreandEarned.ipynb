{
  "nbformat": 4,
  "nbformat_minor": 0,
  "metadata": {
    "colab": {
      "name": "IncomeSpendingScoreandEarned.ipynb",
      "provenance": [],
      "include_colab_link": true
    },
    "kernelspec": {
      "name": "python3",
      "display_name": "Python 3"
    },
    "language_info": {
      "name": "python"
    }
  },
  "cells": [
    {
      "cell_type": "markdown",
      "metadata": {
        "id": "view-in-github",
        "colab_type": "text"
      },
      "source": [
        "<a href=\"https://colab.research.google.com/github/ChitrakCDB/MachineLearningAlgorithms/blob/main/IncomeSpendingScoreandEarned.ipynb\" target=\"_parent\"><img src=\"https://colab.research.google.com/assets/colab-badge.svg\" alt=\"Open In Colab\"/></a>"
      ]
    },
    {
      "cell_type": "code",
      "metadata": {
        "id": "D7O3_ch5QGDy"
      },
      "source": [
        "import numpy as np #helps in mathematical operations\n",
        "import matplotlib.pyplot as plt #helps in plotting of graph\n",
        "import pandas as pd #helps in making dataframes and importing csv files\n",
        "import seaborn as sns # helps in data visualization"
      ],
      "execution_count": 1,
      "outputs": []
    },
    {
      "cell_type": "code",
      "metadata": {
        "id": "y_pCOineQ_aA"
      },
      "source": [
        "from google.colab import drive #to import google drive data"
      ],
      "execution_count": 2,
      "outputs": []
    },
    {
      "cell_type": "code",
      "metadata": {
        "colab": {
          "base_uri": "https://localhost:8080/"
        },
        "id": "SC_TlQrFRL0I",
        "outputId": "7dd9f1ac-7573-4c9a-d692-a8307720f62d"
      },
      "source": [
        "drive.mount('/content/drive') #to mount the drive data into colab cloud and enter the activation code"
      ],
      "execution_count": 3,
      "outputs": [
        {
          "output_type": "stream",
          "text": [
            "Mounted at /content/drive\n"
          ],
          "name": "stdout"
        }
      ]
    },
    {
      "cell_type": "code",
      "metadata": {
        "colab": {
          "base_uri": "https://localhost:8080/"
        },
        "id": "fQ4HtRj_ROA9",
        "outputId": "e5642909-1178-4726-c2cf-f6b40c1897e2"
      },
      "source": [
        "cd /content/drive/\"My Drive/Colab Notebooks/Files\""
      ],
      "execution_count": 4,
      "outputs": [
        {
          "output_type": "stream",
          "text": [
            "/content/drive/My Drive/Colab Notebooks/Files\n"
          ],
          "name": "stdout"
        }
      ]
    },
    {
      "cell_type": "code",
      "metadata": {
        "colab": {
          "base_uri": "https://localhost:8080/",
          "height": 419
        },
        "id": "KdAvGzA8RWny",
        "outputId": "947a6604-4b56-4a55-d20b-1031aafc86f4"
      },
      "source": [
        "#Reading the csv file\n",
        "dataset=pd.read_csv(\"Question 2.csv\")\n",
        "dataset"
      ],
      "execution_count": 6,
      "outputs": [
        {
          "output_type": "execute_result",
          "data": {
            "text/html": [
              "<div>\n",
              "<style scoped>\n",
              "    .dataframe tbody tr th:only-of-type {\n",
              "        vertical-align: middle;\n",
              "    }\n",
              "\n",
              "    .dataframe tbody tr th {\n",
              "        vertical-align: top;\n",
              "    }\n",
              "\n",
              "    .dataframe thead th {\n",
              "        text-align: right;\n",
              "    }\n",
              "</style>\n",
              "<table border=\"1\" class=\"dataframe\">\n",
              "  <thead>\n",
              "    <tr style=\"text-align: right;\">\n",
              "      <th></th>\n",
              "      <th>INCOME</th>\n",
              "      <th>SPEND</th>\n",
              "    </tr>\n",
              "  </thead>\n",
              "  <tbody>\n",
              "    <tr>\n",
              "      <th>0</th>\n",
              "      <td>233</td>\n",
              "      <td>150</td>\n",
              "    </tr>\n",
              "    <tr>\n",
              "      <th>1</th>\n",
              "      <td>250</td>\n",
              "      <td>187</td>\n",
              "    </tr>\n",
              "    <tr>\n",
              "      <th>2</th>\n",
              "      <td>204</td>\n",
              "      <td>172</td>\n",
              "    </tr>\n",
              "    <tr>\n",
              "      <th>3</th>\n",
              "      <td>236</td>\n",
              "      <td>178</td>\n",
              "    </tr>\n",
              "    <tr>\n",
              "      <th>4</th>\n",
              "      <td>354</td>\n",
              "      <td>163</td>\n",
              "    </tr>\n",
              "    <tr>\n",
              "      <th>...</th>\n",
              "      <td>...</td>\n",
              "      <td>...</td>\n",
              "    </tr>\n",
              "    <tr>\n",
              "      <th>298</th>\n",
              "      <td>241</td>\n",
              "      <td>123</td>\n",
              "    </tr>\n",
              "    <tr>\n",
              "      <th>299</th>\n",
              "      <td>264</td>\n",
              "      <td>132</td>\n",
              "    </tr>\n",
              "    <tr>\n",
              "      <th>300</th>\n",
              "      <td>193</td>\n",
              "      <td>141</td>\n",
              "    </tr>\n",
              "    <tr>\n",
              "      <th>301</th>\n",
              "      <td>131</td>\n",
              "      <td>115</td>\n",
              "    </tr>\n",
              "    <tr>\n",
              "      <th>302</th>\n",
              "      <td>236</td>\n",
              "      <td>174</td>\n",
              "    </tr>\n",
              "  </tbody>\n",
              "</table>\n",
              "<p>303 rows × 2 columns</p>\n",
              "</div>"
            ],
            "text/plain": [
              "     INCOME  SPEND\n",
              "0       233    150\n",
              "1       250    187\n",
              "2       204    172\n",
              "3       236    178\n",
              "4       354    163\n",
              "..      ...    ...\n",
              "298     241    123\n",
              "299     264    132\n",
              "300     193    141\n",
              "301     131    115\n",
              "302     236    174\n",
              "\n",
              "[303 rows x 2 columns]"
            ]
          },
          "metadata": {
            "tags": []
          },
          "execution_count": 6
        }
      ]
    },
    {
      "cell_type": "code",
      "metadata": {
        "colab": {
          "base_uri": "https://localhost:8080/",
          "height": 463
        },
        "id": "u8V87mFDDRCI",
        "outputId": "7f453c18-f6fd-45a6-b5a3-82f6395aba55"
      },
      "source": [
        "plt.figure(figsize=(25,6))\n",
        "sns.countplot(dataset['SPEND'], palette = 'cool')\n",
        "plt.title('Distribution of Spendings', fontsize = 20)\n",
        "plt.show()"
      ],
      "execution_count": 7,
      "outputs": [
        {
          "output_type": "stream",
          "text": [
            "/usr/local/lib/python3.7/dist-packages/seaborn/_decorators.py:43: FutureWarning: Pass the following variable as a keyword arg: x. From version 0.12, the only valid positional argument will be `data`, and passing other arguments without an explicit keyword will result in an error or misinterpretation.\n",
            "  FutureWarning\n"
          ],
          "name": "stderr"
        },
        {
          "output_type": "display_data",
          "data": {
            "image/png": "[encoded data removed]",
            "text/plain": [
              "<Figure size 1800x432 with 1 Axes>"
            ]
          },
          "metadata": {
            "tags": [],
            "needs_background": "light"
          }
        }
      ]
    },
    {
      "cell_type": "code",
      "metadata": {
        "id": "44g40hJaRukQ",
        "colab": {
          "base_uri": "https://localhost:8080/",
          "height": 463
        },
        "outputId": "402a5955-4f82-4927-e77e-6fa9a6219612"
      },
      "source": [
        "plt.figure(figsize=(25,6))\n",
        "sns.countplot(dataset['INCOME'], palette = 'cool')\n",
        "plt.title('Distribution of Income', fontsize = 20)\n",
        "plt.show()"
      ],
      "execution_count": 8,
      "outputs": [
        {
          "output_type": "stream",
          "text": [
            "/usr/local/lib/python3.7/dist-packages/seaborn/_decorators.py:43: FutureWarning: Pass the following variable as a keyword arg: x. From version 0.12, the only valid positional argument will be `data`, and passing other arguments without an explicit keyword will result in an error or misinterpretation.\n",
            "  FutureWarning\n"
          ],
          "name": "stderr"
        },
        {
          "output_type": "display_data",
          "data": {
            "image/png": "[encoded data removed]",
            "text/plain": [
              "<Figure size 1800x432 with 1 Axes>"
            ]
          },
          "metadata": {
            "tags": [],
            "needs_background": "light"
          }
        }
      ]
    },
    {
      "cell_type": "code",
      "metadata": {
        "colab": {
          "base_uri": "https://localhost:8080/",
          "height": 458
        },
        "id": "_aXeudWZ6LJs",
        "outputId": "2d2cd660-0dcc-43fe-c992-f59084af99d1"
      },
      "source": [
        "x = dataset['INCOME']\n",
        "y = dataset['SPEND']\n",
        "\n",
        "\n",
        "sns.relplot(x, y)\n",
        "plt.title('Income vs Spending Score', fontsize = 20)\n",
        "plt.show()"
      ],
      "execution_count": 9,
      "outputs": [
        {
          "output_type": "stream",
          "text": [
            "/usr/local/lib/python3.7/dist-packages/seaborn/_decorators.py:43: FutureWarning: Pass the following variables as keyword args: x, y. From version 0.12, the only valid positional argument will be `data`, and passing other arguments without an explicit keyword will result in an error or misinterpretation.\n",
            "  FutureWarning\n"
          ],
          "name": "stderr"
        },
        {
          "output_type": "display_data",
          "data": {
            "image/png": "[encoded data removed]",
            "text/plain": [
              "<Figure size 360x360 with 1 Axes>"
            ]
          },
          "metadata": {
            "tags": [],
            "needs_background": "light"
          }
        }
      ]
    },
    {
      "cell_type": "code",
      "metadata": {
        "colab": {
          "base_uri": "https://localhost:8080/"
        },
        "id": "RBKcaG716Vbo",
        "outputId": "9acc6d44-ceba-46dd-e371-1ee27d49858d"
      },
      "source": [
        "X= dataset.iloc[:, [0,1]].values\n",
        "X"
      ],
      "execution_count": 10,
      "outputs": [
        {
          "output_type": "execute_result",
          "data": {
            "text/plain": [
              "array([[233, 150],\n",
              "       [250, 187],\n",
              "       [204, 172],\n",
              "       [236, 178],\n",
              "       [354, 163],\n",
              "       [192, 148],\n",
              "       [294, 153],\n",
              "       [263, 173],\n",
              "       [199, 162],\n",
              "       [168, 174],\n",
              "       [239, 160],\n",
              "       [275, 139],\n",
              "       [266, 171],\n",
              "       [211, 144],\n",
              "       [283, 162],\n",
              "       [219, 158],\n",
              "       [340, 172],\n",
              "       [226, 114],\n",
              "       [247, 171],\n",
              "       [239, 151],\n",
              "       [234, 161],\n",
              "       [233, 179],\n",
              "       [226, 178],\n",
              "       [243, 137],\n",
              "       [199, 178],\n",
              "       [302, 162],\n",
              "       [212, 157],\n",
              "       [175, 123],\n",
              "       [417, 157],\n",
              "       [197, 152],\n",
              "       [198, 168],\n",
              "       [177, 140],\n",
              "       [219, 188],\n",
              "       [273, 152],\n",
              "       [213, 125],\n",
              "       [177, 160],\n",
              "       [304, 170],\n",
              "       [232, 165],\n",
              "       [269, 148],\n",
              "       [360, 151],\n",
              "       [308, 142],\n",
              "       [245, 180],\n",
              "       [208, 148],\n",
              "       [264, 143],\n",
              "       [321, 182],\n",
              "       [325, 172],\n",
              "       [235, 180],\n",
              "       [257, 156],\n",
              "       [216, 115],\n",
              "       [234, 160],\n",
              "       [256, 149],\n",
              "       [302, 151],\n",
              "       [231, 146],\n",
              "       [141, 175],\n",
              "       [252, 172],\n",
              "       [201, 158],\n",
              "       [222, 186],\n",
              "       [260, 185],\n",
              "       [182, 174],\n",
              "       [303, 159],\n",
              "       [265, 130],\n",
              "       [309, 156],\n",
              "       [186, 190],\n",
              "       [203, 132],\n",
              "       [211, 165],\n",
              "       [183, 182],\n",
              "       [222, 143],\n",
              "       [234, 175],\n",
              "       [220, 170],\n",
              "       [209, 163],\n",
              "       [258, 147],\n",
              "       [227, 154],\n",
              "       [204, 202],\n",
              "       [261, 186],\n",
              "       [213, 165],\n",
              "       [250, 161],\n",
              "       [245, 166],\n",
              "       [221, 164],\n",
              "       [205, 184],\n",
              "       [240, 154],\n",
              "       [250, 179],\n",
              "       [308, 170],\n",
              "       [318, 160],\n",
              "       [298, 178],\n",
              "       [265, 122],\n",
              "       [264, 160],\n",
              "       [277, 151],\n",
              "       [197, 156],\n",
              "       [214, 158],\n",
              "       [248, 122],\n",
              "       [255, 175],\n",
              "       [207, 168],\n",
              "       [223, 169],\n",
              "       [288, 159],\n",
              "       [160, 138],\n",
              "       [226, 111],\n",
              "       [394, 157],\n",
              "       [233, 147],\n",
              "       [315, 162],\n",
              "       [246, 173],\n",
              "       [244, 178],\n",
              "       [270, 145],\n",
              "       [195, 179],\n",
              "       [240, 194],\n",
              "       [196, 163],\n",
              "       [211, 115],\n",
              "       [234, 131],\n",
              "       [236, 152],\n",
              "       [244, 162],\n",
              "       [254, 159],\n",
              "       [325, 154],\n",
              "       [126, 173],\n",
              "       [313, 133],\n",
              "       [211, 161],\n",
              "       [262, 155],\n",
              "       [215, 170],\n",
              "       [214, 168],\n",
              "       [193, 162],\n",
              "       [204, 172],\n",
              "       [243, 152],\n",
              "       [303, 122],\n",
              "       [271, 182],\n",
              "       [268, 172],\n",
              "       [267, 167],\n",
              "       [199, 179],\n",
              "       [210, 192],\n",
              "       [204, 143],\n",
              "       [277, 172],\n",
              "       [196, 169],\n",
              "       [269, 121],\n",
              "       [201, 163],\n",
              "       [271, 162],\n",
              "       [295, 162],\n",
              "       [235, 153],\n",
              "       [306, 163],\n",
              "       [269, 163],\n",
              "       [178,  96],\n",
              "       [208, 140],\n",
              "       [201, 126],\n",
              "       [263, 105],\n",
              "       [295, 157],\n",
              "       [303, 181],\n",
              "       [209, 173],\n",
              "       [223, 142],\n",
              "       [197, 116],\n",
              "       [245, 143],\n",
              "       [242, 149],\n",
              "       [240, 171],\n",
              "       [226, 169],\n",
              "       [180, 150],\n",
              "       [228, 138],\n",
              "       [149, 125],\n",
              "       [227, 155],\n",
              "       [278, 152],\n",
              "       [220, 152],\n",
              "       [197, 131],\n",
              "       [253, 179],\n",
              "       [192, 174],\n",
              "       [220, 144],\n",
              "       [221, 163],\n",
              "       [240, 169],\n",
              "       [342, 166],\n",
              "       [157, 182],\n",
              "       [175, 173],\n",
              "       [175, 173],\n",
              "       [286, 108],\n",
              "       [229, 129],\n",
              "       [268, 160],\n",
              "       [254, 147],\n",
              "       [203, 155],\n",
              "       [256, 142],\n",
              "       [229, 168],\n",
              "       [284, 160],\n",
              "       [224, 173],\n",
              "       [206, 132],\n",
              "       [167, 114],\n",
              "       [230, 160],\n",
              "       [335, 158],\n",
              "       [177, 120],\n",
              "       [276, 112],\n",
              "       [353, 132],\n",
              "       [225, 114],\n",
              "       [330, 169],\n",
              "       [230, 165],\n",
              "       [243, 128],\n",
              "       [290, 153],\n",
              "       [253, 144],\n",
              "       [266, 109],\n",
              "       [233, 163],\n",
              "       [172, 158],\n",
              "       [305, 142],\n",
              "       [216, 131],\n",
              "       [188, 113],\n",
              "       [282, 142],\n",
              "       [185, 155],\n",
              "       [326, 140],\n",
              "       [231, 147],\n",
              "       [254, 163],\n",
              "       [267,  99],\n",
              "       [248, 158],\n",
              "       [197, 177],\n",
              "       [258, 141],\n",
              "       [270, 111],\n",
              "       [274, 150],\n",
              "       [164, 145],\n",
              "       [255, 161],\n",
              "       [239, 142],\n",
              "       [258, 157],\n",
              "       [188, 139],\n",
              "       [177, 162],\n",
              "       [229, 150],\n",
              "       [260, 140],\n",
              "       [219, 140],\n",
              "       [307, 146],\n",
              "       [249, 144],\n",
              "       [341, 136],\n",
              "       [263,  97],\n",
              "       [330, 132],\n",
              "       [254, 127],\n",
              "       [256, 150],\n",
              "       [407, 154],\n",
              "       [217, 111],\n",
              "       [282, 174],\n",
              "       [288, 133],\n",
              "       [239, 126],\n",
              "       [174, 125],\n",
              "       [281, 103],\n",
              "       [198, 130],\n",
              "       [288, 159],\n",
              "       [309, 131],\n",
              "       [243, 152],\n",
              "       [289, 124],\n",
              "       [289, 145],\n",
              "       [246,  96],\n",
              "       [322, 109],\n",
              "       [299, 173],\n",
              "       [300, 171],\n",
              "       [293, 170],\n",
              "       [304, 162],\n",
              "       [282, 156],\n",
              "       [269, 112],\n",
              "       [249, 143],\n",
              "       [212, 132],\n",
              "       [274,  88],\n",
              "       [184, 105],\n",
              "       [274, 166],\n",
              "       [409, 150],\n",
              "       [246, 120],\n",
              "       [283, 195],\n",
              "       [254, 146],\n",
              "       [298, 122],\n",
              "       [247, 143],\n",
              "       [294, 106],\n",
              "       [299, 125],\n",
              "       [273, 125],\n",
              "       [309, 147],\n",
              "       [259, 130],\n",
              "       [200, 126],\n",
              "       [244, 154],\n",
              "       [231, 182],\n",
              "       [228, 165],\n",
              "       [230, 160],\n",
              "       [282,  95],\n",
              "       [269, 169],\n",
              "       [206, 108],\n",
              "       [212, 132],\n",
              "       [327, 117],\n",
              "       [149, 126],\n",
              "       [286, 116],\n",
              "       [283, 103],\n",
              "       [249, 144],\n",
              "       [234, 145],\n",
              "       [237,  71],\n",
              "       [234, 156],\n",
              "       [275, 118],\n",
              "       [212, 168],\n",
              "       [218, 105],\n",
              "       [261, 141],\n",
              "       [319, 152],\n",
              "       [166, 125],\n",
              "       [315, 125],\n",
              "       [204, 156],\n",
              "       [218, 134],\n",
              "       [223, 181],\n",
              "       [207, 138],\n",
              "       [311, 120],\n",
              "       [204, 162],\n",
              "       [232, 164],\n",
              "       [335, 143],\n",
              "       [205, 130],\n",
              "       [203, 161],\n",
              "       [318, 140],\n",
              "       [225, 146],\n",
              "       [212, 150],\n",
              "       [169, 144],\n",
              "       [187, 144],\n",
              "       [197, 136],\n",
              "       [176,  90],\n",
              "       [241, 123],\n",
              "       [264, 132],\n",
              "       [193, 141],\n",
              "       [131, 115],\n",
              "       [236, 174]])"
            ]
          },
          "metadata": {
            "tags": []
          },
          "execution_count": 10
        }
      ]
    },
    {
      "cell_type": "code",
      "metadata": {
        "colab": {
          "base_uri": "https://localhost:8080/",
          "height": 295
        },
        "id": "iE8tDcQf6d0-",
        "outputId": "9118bce4-08fc-4d70-d1e9-c5035c27162d"
      },
      "source": [
        "from sklearn.cluster import KMeans\n",
        "#Elbow method\n",
        "wcss=[]\n",
        "for i in range(1,20):\n",
        "    kmeans = KMeans(n_clusters= i, init='k-means++', random_state=0)\n",
        "    kmeans.fit(X)\n",
        "    wcss.append(kmeans.inertia_)\n",
        "\n",
        "plt.plot(range(1,20), wcss)\n",
        "plt.title('The Elbow Method')\n",
        "plt.xlabel('no of clusters')\n",
        "plt.ylabel('wcss')\n",
        "plt.show()"
      ],
      "execution_count": 12,
      "outputs": [
        {
          "output_type": "display_data",
          "data": {
            "image/png": "[encoded data removed]",
            "text/plain": [
              "<Figure size 432x288 with 1 Axes>"
            ]
          },
          "metadata": {
            "tags": [],
            "needs_background": "light"
          }
        }
      ]
    },
    {
      "cell_type": "code",
      "metadata": {
        "id": "E3XcBykI6jNm"
      },
      "source": [
        "kmeans = KMeans(n_clusters=5,init='k-means++',random_state=0)\n",
        "y_kmeans = kmeans.fit_predict(X)"
      ],
      "execution_count": 13,
      "outputs": []
    },
    {
      "cell_type": "code",
      "metadata": {
        "colab": {
          "base_uri": "https://localhost:8080/",
          "height": 295
        },
        "id": "UV0LGg5K6ram",
        "outputId": "72ba3fde-f3e4-420e-930f-d3ba53c8975b"
      },
      "source": [
        "#visualize the Cluster\n",
        "plt.scatter(X[y_kmeans==0,0],X[y_kmeans==0,1],s=20,c='yellow',label='cluster1')\n",
        "plt.scatter(X[y_kmeans==1,0],X[y_kmeans==1,1],s=20,c='orange',label='cluster2')\n",
        "plt.scatter(X[y_kmeans==2,0],X[y_kmeans==2,1],s=20,c='blue',label='cluster3')\n",
        "plt.scatter(X[y_kmeans==3,0],X[y_kmeans==3,1],s=20,c='red',label='cluster4')\n",
        "plt.scatter(X[y_kmeans==4,0],X[y_kmeans==4,1],s=20,c='magenta',label='cluster5')\n",
        "\n",
        "plt.scatter(kmeans.cluster_centers_[:,0],kmeans.cluster_centers_[:,1],s=100,c='black',label='centroids')\n",
        "\n",
        "plt.title('KMeans Clustering')\n",
        "plt.xlabel('Annual Income')\n",
        "plt.ylabel('Spending Score')\n",
        "plt.legend()  \n",
        "plt.show()"
      ],
      "execution_count": 15,
      "outputs": [
        {
          "output_type": "display_data",
          "data": {
            "image/png": "[encoded data removed]",
            "text/plain": [
              "<Figure size 432x288 with 1 Axes>"
            ]
          },
          "metadata": {
            "tags": [],
            "needs_background": "light"
          }
        }
      ]
    },
    {
      "cell_type": "markdown",
      "metadata": {
        "id": "Ne6Ah9fV65hl"
      },
      "source": [
        "So from the above graph we can answer the question as:\n",
        "\n",
        "people marked in magenta color dots are the ones having good income and are living a luxurious life.\n",
        "\n",
        "people marked in yellow color dots are the ones which are living a luxurious life despite having low income.\n",
        "\n",
        "people marked in blue color dots are the ones which have a low income and so are not able live a luxurious life.\n",
        "\n",
        "people marked in red color dots are the ones which have a high income but are saving up for security."
      ]
    }
  ]
}