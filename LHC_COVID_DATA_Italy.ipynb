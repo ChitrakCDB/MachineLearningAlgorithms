{
  "nbformat": 4,
  "nbformat_minor": 0,
  "metadata": {
    "colab": {
      "name": "LHC_COVID_DATA_Italy.ipynb",
      "provenance": [],
      "include_colab_link": true
    },
    "kernelspec": {
      "name": "python3",
      "display_name": "Python 3"
    },
    "language_info": {
      "name": "python"
    }
  },
  "cells": [
    {
      "cell_type": "markdown",
      "metadata": {
        "id": "view-in-github",
        "colab_type": "text"
      },
      "source": [
        "<a href=\"https://colab.research.google.com/github/ChitrakCDB/MachineLearningAlgorithms/blob/main/LHC_COVID_DATA_Italy.ipynb\" target=\"_parent\"><img src=\"https://colab.research.google.com/assets/colab-badge.svg\" alt=\"Open In Colab\"/></a>"
      ]
    },
    {
      "cell_type": "code",
      "metadata": {
        "id": "TsuxGZNGxfOl"
      },
      "source": [
        "import numpy as np  #helps in mathematical operations\n",
        "import matplotlib.pyplot as plt #helps in plotting of graph\n",
        "import pandas as pd #helps in making dataframes and importing csv files"
      ],
      "execution_count": null,
      "outputs": []
    },
    {
      "cell_type": "code",
      "metadata": {
        "id": "Vj_fLkCDx6QS"
      },
      "source": [
        "from google.colab import drive #to import google drive data"
      ],
      "execution_count": null,
      "outputs": []
    },
    {
      "cell_type": "code",
      "metadata": {
        "colab": {
          "base_uri": "https://localhost:8080/"
        },
        "id": "uMdiN76rx82j",
        "outputId": "85089ed4-a6e8-47e6-b8c1-f6f41feca63a"
      },
      "source": [
        "drive.mount('/content/drive') # mount the drive on colab using authentication"
      ],
      "execution_count": null,
      "outputs": [
        {
          "output_type": "stream",
          "text": [
            "Mounted at /content/drive\n"
          ],
          "name": "stdout"
        }
      ]
    },
    {
      "cell_type": "code",
      "metadata": {
        "colab": {
          "base_uri": "https://localhost:8080/"
        },
        "id": "baPLZVhyx-4m",
        "outputId": "0f201ea3-64d2-4c46-e555-5a4a4e0c07dd"
      },
      "source": [
        "cd /content/drive/\"My Drive/Colab Notebooks/Files\""
      ],
      "execution_count": null,
      "outputs": [
        {
          "output_type": "stream",
          "text": [
            "/content/drive/My Drive/Colab Notebooks/Files\n"
          ],
          "name": "stdout"
        }
      ]
    },
    {
      "cell_type": "code",
      "metadata": {
        "id": "VLnzreUjyILr"
      },
      "source": [
        "confirmed_cases = pd.read_csv(\"time_series_covid19_confirmed_global.csv\")\n",
        "recovered_cases = pd.read_csv(\"time_series_covid19_recovered_global.csv\")\n",
        "deaths = pd.read_csv(\"time_series_covid19_deaths_global.csv\")\n",
        "confirmed_cases = confirmed_cases.drop(['Province/State','Lat','Long'],axis=1)\n",
        "recovered_cases = recovered_cases.drop(['Province/State','Lat','Long'],axis=1)\n",
        "deaths = deaths.drop(['Province/State','Lat','Long'],axis=1)"
      ],
      "execution_count": null,
      "outputs": []
    },
    {
      "cell_type": "code",
      "metadata": {
        "id": "FVVIxRHOylkI"
      },
      "source": [
        "italy_confirmed_cases = confirmed_cases.loc[confirmed_cases['Country/Region']=='Italy']"
      ],
      "execution_count": null,
      "outputs": []
    },
    {
      "cell_type": "code",
      "metadata": {
        "id": "RZdFsWORzmVb"
      },
      "source": [
        "italy_recovered_cases = recovered_cases.loc[recovered_cases['Country/Region']=='Italy']\n",
        "italy_deaths = deaths.loc[deaths['Country/Region']=='Italy']"
      ],
      "execution_count": null,
      "outputs": []
    },
    {
      "cell_type": "code",
      "metadata": {
        "id": "1-sArdue01EM"
      },
      "source": [
        "italy_confirmed_cases = pd.DataFrame(italy_confirmed_cases)\n",
        "italy_recovered_cases = pd.DataFrame(italy_recovered_cases)\n",
        "italy_deaths = pd.DataFrame(italy_deaths)"
      ],
      "execution_count": null,
      "outputs": []
    },
    {
      "cell_type": "code",
      "metadata": {
        "id": "YkBkPaFH1xLB"
      },
      "source": [
        "italy_confirmed_cases=italy_confirmed_cases.drop(['Country/Region'],axis=1)\n",
        "italy_recovered_cases=italy_recovered_cases.drop(['Country/Region'],axis=1)\n",
        "italy_deaths = italy_deaths.drop(['Country/Region'],axis=1)"
      ],
      "execution_count": null,
      "outputs": []
    },
    {
      "cell_type": "code",
      "metadata": {
        "id": "RQNL7XMR2UQD"
      },
      "source": [
        "italy_confirmed_cases.index = [\"Confirm_Cases\"]\n",
        "italy_confirmed_cases = italy_confirmed_cases.transpose()"
      ],
      "execution_count": null,
      "outputs": []
    },
    {
      "cell_type": "code",
      "metadata": {
        "colab": {
          "base_uri": "https://localhost:8080/",
          "height": 419
        },
        "id": "itFYTLY87XSK",
        "outputId": "c113c860-ec53-4888-e2a9-6732e39def64"
      },
      "source": [
        "italy_confirmed_cases"
      ],
      "execution_count": null,
      "outputs": [
        {
          "output_type": "execute_result",
          "data": {
            "text/html": [
              "<div>\n",
              "<style scoped>\n",
              "    .dataframe tbody tr th:only-of-type {\n",
              "        vertical-align: middle;\n",
              "    }\n",
              "\n",
              "    .dataframe tbody tr th {\n",
              "        vertical-align: top;\n",
              "    }\n",
              "\n",
              "    .dataframe thead th {\n",
              "        text-align: right;\n",
              "    }\n",
              "</style>\n",
              "<table border=\"1\" class=\"dataframe\">\n",
              "  <thead>\n",
              "    <tr style=\"text-align: right;\">\n",
              "      <th></th>\n",
              "      <th>Confirm_Cases</th>\n",
              "    </tr>\n",
              "  </thead>\n",
              "  <tbody>\n",
              "    <tr>\n",
              "      <th>1/22/20</th>\n",
              "      <td>0</td>\n",
              "    </tr>\n",
              "    <tr>\n",
              "      <th>1/23/20</th>\n",
              "      <td>0</td>\n",
              "    </tr>\n",
              "    <tr>\n",
              "      <th>1/24/20</th>\n",
              "      <td>0</td>\n",
              "    </tr>\n",
              "    <tr>\n",
              "      <th>1/25/20</th>\n",
              "      <td>0</td>\n",
              "    </tr>\n",
              "    <tr>\n",
              "      <th>1/26/20</th>\n",
              "      <td>0</td>\n",
              "    </tr>\n",
              "    <tr>\n",
              "      <th>...</th>\n",
              "      <td>...</td>\n",
              "    </tr>\n",
              "    <tr>\n",
              "      <th>4/29/21</th>\n",
              "      <td>4009208</td>\n",
              "    </tr>\n",
              "    <tr>\n",
              "      <th>4/30/21</th>\n",
              "      <td>4022653</td>\n",
              "    </tr>\n",
              "    <tr>\n",
              "      <th>5/1/21</th>\n",
              "      <td>4035617</td>\n",
              "    </tr>\n",
              "    <tr>\n",
              "      <th>5/2/21</th>\n",
              "      <td>4044762</td>\n",
              "    </tr>\n",
              "    <tr>\n",
              "      <th>5/3/21</th>\n",
              "      <td>4050708</td>\n",
              "    </tr>\n",
              "  </tbody>\n",
              "</table>\n",
              "<p>468 rows × 1 columns</p>\n",
              "</div>"
            ],
            "text/plain": [
              "         Confirm_Cases\n",
              "1/22/20              0\n",
              "1/23/20              0\n",
              "1/24/20              0\n",
              "1/25/20              0\n",
              "1/26/20              0\n",
              "...                ...\n",
              "4/29/21        4009208\n",
              "4/30/21        4022653\n",
              "5/1/21         4035617\n",
              "5/2/21         4044762\n",
              "5/3/21         4050708\n",
              "\n",
              "[468 rows x 1 columns]"
            ]
          },
          "metadata": {
            "tags": []
          },
          "execution_count": 11
        }
      ]
    },
    {
      "cell_type": "code",
      "metadata": {
        "id": "usZWzMPX7bW-"
      },
      "source": [
        "italy_recovered_cases.index = [\"Recovered_Cases\"]\n",
        "italy_recovered_cases = italy_recovered_cases.transpose()\n",
        "italy_deaths.index = [\"Deaths\"]\n",
        "italy_deaths = italy_deaths.transpose()"
      ],
      "execution_count": null,
      "outputs": []
    },
    {
      "cell_type": "code",
      "metadata": {
        "id": "_XCvsN6g3nhf"
      },
      "source": [
        "italy_data = italy_confirmed_cases"
      ],
      "execution_count": null,
      "outputs": []
    },
    {
      "cell_type": "code",
      "metadata": {
        "id": "BumtnYj45qJ8"
      },
      "source": [
        "italy_data['Recovered_Cases'] = italy_recovered_cases"
      ],
      "execution_count": null,
      "outputs": []
    },
    {
      "cell_type": "code",
      "metadata": {
        "id": "9h2Xvkfw8EhO"
      },
      "source": [
        "italy_data['Deaths'] = italy_deaths"
      ],
      "execution_count": null,
      "outputs": []
    },
    {
      "cell_type": "code",
      "metadata": {
        "colab": {
          "base_uri": "https://localhost:8080/",
          "height": 419
        },
        "id": "QIxldL3m8Rqr",
        "outputId": "254d1cde-a380-47ad-b045-be3073306d4d"
      },
      "source": [
        "italy_data"
      ],
      "execution_count": null,
      "outputs": [
        {
          "output_type": "execute_result",
          "data": {
            "text/html": [
              "<div>\n",
              "<style scoped>\n",
              "    .dataframe tbody tr th:only-of-type {\n",
              "        vertical-align: middle;\n",
              "    }\n",
              "\n",
              "    .dataframe tbody tr th {\n",
              "        vertical-align: top;\n",
              "    }\n",
              "\n",
              "    .dataframe thead th {\n",
              "        text-align: right;\n",
              "    }\n",
              "</style>\n",
              "<table border=\"1\" class=\"dataframe\">\n",
              "  <thead>\n",
              "    <tr style=\"text-align: right;\">\n",
              "      <th></th>\n",
              "      <th>Confirm_Cases</th>\n",
              "      <th>Recovered_Cases</th>\n",
              "      <th>Deaths</th>\n",
              "    </tr>\n",
              "  </thead>\n",
              "  <tbody>\n",
              "    <tr>\n",
              "      <th>1/22/20</th>\n",
              "      <td>0</td>\n",
              "      <td>0</td>\n",
              "      <td>0</td>\n",
              "    </tr>\n",
              "    <tr>\n",
              "      <th>1/23/20</th>\n",
              "      <td>0</td>\n",
              "      <td>0</td>\n",
              "      <td>0</td>\n",
              "    </tr>\n",
              "    <tr>\n",
              "      <th>1/24/20</th>\n",
              "      <td>0</td>\n",
              "      <td>0</td>\n",
              "      <td>0</td>\n",
              "    </tr>\n",
              "    <tr>\n",
              "      <th>1/25/20</th>\n",
              "      <td>0</td>\n",
              "      <td>0</td>\n",
              "      <td>0</td>\n",
              "    </tr>\n",
              "    <tr>\n",
              "      <th>1/26/20</th>\n",
              "      <td>0</td>\n",
              "      <td>0</td>\n",
              "      <td>0</td>\n",
              "    </tr>\n",
              "    <tr>\n",
              "      <th>...</th>\n",
              "      <td>...</td>\n",
              "      <td>...</td>\n",
              "      <td>...</td>\n",
              "    </tr>\n",
              "    <tr>\n",
              "      <th>4/29/21</th>\n",
              "      <td>4009208</td>\n",
              "      <td>3449955</td>\n",
              "      <td>120544</td>\n",
              "    </tr>\n",
              "    <tr>\n",
              "      <th>4/30/21</th>\n",
              "      <td>4022653</td>\n",
              "      <td>3465576</td>\n",
              "      <td>120807</td>\n",
              "    </tr>\n",
              "    <tr>\n",
              "      <th>5/1/21</th>\n",
              "      <td>4035617</td>\n",
              "      <td>3484042</td>\n",
              "      <td>121033</td>\n",
              "    </tr>\n",
              "    <tr>\n",
              "      <th>5/2/21</th>\n",
              "      <td>4044762</td>\n",
              "      <td>3492679</td>\n",
              "      <td>121177</td>\n",
              "    </tr>\n",
              "    <tr>\n",
              "      <th>5/3/21</th>\n",
              "      <td>4050708</td>\n",
              "      <td>3505717</td>\n",
              "      <td>121433</td>\n",
              "    </tr>\n",
              "  </tbody>\n",
              "</table>\n",
              "<p>468 rows × 3 columns</p>\n",
              "</div>"
            ],
            "text/plain": [
              "         Confirm_Cases  Recovered_Cases  Deaths\n",
              "1/22/20              0                0       0\n",
              "1/23/20              0                0       0\n",
              "1/24/20              0                0       0\n",
              "1/25/20              0                0       0\n",
              "1/26/20              0                0       0\n",
              "...                ...              ...     ...\n",
              "4/29/21        4009208          3449955  120544\n",
              "4/30/21        4022653          3465576  120807\n",
              "5/1/21         4035617          3484042  121033\n",
              "5/2/21         4044762          3492679  121177\n",
              "5/3/21         4050708          3505717  121433\n",
              "\n",
              "[468 rows x 3 columns]"
            ]
          },
          "metadata": {
            "tags": []
          },
          "execution_count": 16
        }
      ]
    },
    {
      "cell_type": "code",
      "metadata": {
        "colab": {
          "base_uri": "https://localhost:8080/",
          "height": 295
        },
        "id": "vuRksy-i8S0Z",
        "outputId": "69446c11-781d-4c48-acaf-183e4aa19ad6"
      },
      "source": [
        "plt.plot(italy_data.index, italy_data['Confirm_Cases'], label = \"Confirmed Cases\", linestyle=\"-\")\n",
        "plt.plot(italy_data.index, italy_data['Recovered_Cases'], label = \"Recovered Cases\", linestyle=\"--\")\n",
        "plt.plot(italy_data.index, italy_data['Deaths'], label = \"Deaths\", linestyle=\"-.\")\n",
        "plt.xlabel(\"Days\")\n",
        "plt.ylabel(\"Number of Cases\")\n",
        "plt.title(\"Italy Covid Cases\")\n",
        "plt.legend()\n",
        "plt.show()"
      ],
      "execution_count": null,
      "outputs": [
        {
          "output_type": "display_data",
          "data": {
            "image/png": "[encoded data removed]",
            "text/plain": [
              "<Figure size 432x288 with 1 Axes>"
            ]
          },
          "metadata": {
            "tags": [],
            "needs_background": "light"
          }
        }
      ]
    },
    {
      "cell_type": "code",
      "metadata": {
        "id": "-1XMYJnj8yYM",
        "colab": {
          "base_uri": "https://localhost:8080/",
          "height": 231
        },
        "outputId": "f4a2fbc7-dee9-47bc-d03b-1fec52118421"
      },
      "source": [
        ""
      ],
      "execution_count": null,
      "outputs": [
        {
          "output_type": "error",
          "ename": "NameError",
          "evalue": "ignored",
          "traceback": [
            "\u001b[0;31m---------------------------------------------------------------------------\u001b[0m",
            "\u001b[0;31mNameError\u001b[0m                                 Traceback (most recent call last)",
            "\u001b[0;32m<ipython-input-18-037b3b784607>\u001b[0m in \u001b[0;36m<module>\u001b[0;34m()\u001b[0m\n\u001b[1;32m      1\u001b[0m \u001b[0;34m\u001b[0m\u001b[0m\n\u001b[1;32m      2\u001b[0m \u001b[0mdata_pred\u001b[0m \u001b[0;34m=\u001b[0m \u001b[0;34m[\u001b[0m\u001b[0mi\u001b[0m \u001b[0;32mfor\u001b[0m \u001b[0mi\u001b[0m \u001b[0;32min\u001b[0m \u001b[0mrange\u001b[0m\u001b[0;34m(\u001b[0m\u001b[0;36m1\u001b[0m\u001b[0;34m,\u001b[0m\u001b[0;36m469\u001b[0m\u001b[0;34m)\u001b[0m\u001b[0;34m]\u001b[0m\u001b[0;34m\u001b[0m\u001b[0;34m\u001b[0m\u001b[0m\n\u001b[0;32m----> 3\u001b[0;31m \u001b[0mdf\u001b[0m \u001b[0;34m=\u001b[0m \u001b[0mnew_df\u001b[0m\u001b[0;34m\u001b[0m\u001b[0;34m\u001b[0m\u001b[0m\n\u001b[0m\u001b[1;32m      4\u001b[0m \u001b[0;34m\u001b[0m\u001b[0m\n\u001b[1;32m      5\u001b[0m \u001b[0mdf\u001b[0m\u001b[0;34m.\u001b[0m\u001b[0minsert\u001b[0m\u001b[0;34m(\u001b[0m\u001b[0;36m0\u001b[0m\u001b[0;34m,\u001b[0m\u001b[0;34m\"Days\"\u001b[0m\u001b[0;34m,\u001b[0m\u001b[0mdata_pred\u001b[0m\u001b[0;34m,\u001b[0m\u001b[0;32mTrue\u001b[0m\u001b[0;34m)\u001b[0m\u001b[0;34m\u001b[0m\u001b[0;34m\u001b[0m\u001b[0m\n",
            "\u001b[0;31mNameError\u001b[0m: name 'new_df' is not defined"
          ]
        }
      ]
    }
  ]
}