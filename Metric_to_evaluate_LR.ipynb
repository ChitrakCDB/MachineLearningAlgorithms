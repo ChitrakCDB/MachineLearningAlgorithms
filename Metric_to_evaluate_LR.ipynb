{
  "nbformat": 4,
  "nbformat_minor": 0,
  "metadata": {
    "colab": {
      "name": "Metric to evaluate LR.ipynb",
      "provenance": [],
      "authorship_tag": "ABX9TyP+LjKYdezhDfY5IsVD105i",
      "include_colab_link": true
    },
    "kernelspec": {
      "name": "python3",
      "display_name": "Python 3"
    }
  },
  "cells": [
    {
      "cell_type": "markdown",
      "metadata": {
        "id": "view-in-github",
        "colab_type": "text"
      },
      "source": [
        "<a href=\"https://colab.research.google.com/github/ChitrakCDB/MachineLearningAlgorithms/blob/main/Metric_to_evaluate_LR.ipynb\" target=\"_parent\"><img src=\"https://colab.research.google.com/assets/colab-badge.svg\" alt=\"Open In Colab\"/></a>"
      ]
    },
    {
      "cell_type": "code",
      "metadata": {
        "id": "dd3lNdC-4-sW",
        "colab": {
          "base_uri": "https://localhost:8080/",
          "height": 433
        },
        "outputId": "8da04493-096f-499a-c454-7aba7c61ddbc"
      },
      "source": [
        "import numpy as np \n",
        "import sklearn.metrics as metrics\n",
        "import matplotlib.pyplot as plt\n",
        "\n",
        "y = np.array([-3, -1, -2, 1, -1, 1, 2, 1, 3, 4, 3, 5])\n",
        "yhat = np.array([-2, 1, -1, 0, -1, 1, 2, 2, 3, 3, 3, 5])\n",
        "x = list(range(len(y)))\n",
        "\n",
        "plt.scatter(x, y, color=\"blue\", label=\"original\")\n",
        "plt.plot(x, yhat, color=\"red\", label=\"predicted\")\n",
        "plt.legend()\n",
        "plt.show()\n",
        "\n",
        "# calculate manually\n",
        "d = y - yhat\n",
        "mse_f = np.mean(d**2)\n",
        "mae_f = np.mean(abs(d))\n",
        "rmse_f = np.sqrt(mse_f)\n",
        "r2_f = 1-(sum(d**2)/sum((y-np.mean(y))**2))\n",
        "\n",
        "print(\"Results by manual calculation:\")\n",
        "print(\"MAE:\",mae_f)\n",
        "print(\"MSE:\", mse_f)\n",
        "print(\"RMSE:\", rmse_f)\n",
        "print(\"R-Squared:\", r2_f)\n",
        "\n",
        "mae = metrics.mean_absolute_error(y, yhat)\n",
        "mse = metrics.mean_squared_error(y, yhat)\n",
        "rmse = np.sqrt(mse) #mse**(0.5)  \n",
        "r2 = metrics.r2_score(y,yhat)\n",
        "\n",
        "print(\"Results of sklearn.metrics:\")\n",
        "print(\"MAE:\",mae)\n",
        "print(\"MSE:\", mse)\n",
        "print(\"RMSE:\", rmse)\n",
        "print(\"R-Squared:\", r2)\n"
      ],
      "execution_count": null,
      "outputs": [
        {
          "output_type": "display_data",
          "data": {
            "image/png": "[encoded data removed]",
            "text/plain": [
              "<Figure size 432x288 with 1 Axes>"
            ]
          },
          "metadata": {
            "tags": [],
            "needs_background": "light"
          }
        },
        {
          "output_type": "stream",
          "text": [
            "Results by manual calculation:\n",
            "MAE: 0.5833333333333334\n",
            "MSE: 0.75\n",
            "RMSE: 0.8660254037844386\n",
            "R-Squared: 0.8655043586550436\n",
            "Results of sklearn.metrics:\n",
            "MAE: 0.5833333333333334\n",
            "MSE: 0.75\n",
            "RMSE: 0.8660254037844386\n",
            "R-Squared: 0.8655043586550436\n"
          ],
          "name": "stdout"
        }
      ]
    }
  ]
}